{
 "cells": [
  {
   "cell_type": "markdown",
   "metadata": {},
   "source": [
    "## Stationary calibration\n",
    "\n",
    "This notebook contains the results of calibrating the 4 phones when configured next to each other with the same settings and placed next to each other in the same bookcase."
   ]
  },
  {
   "cell_type": "code",
   "execution_count": null,
   "metadata": {},
   "outputs": [],
   "source": [
    "# for reading and validating data\n",
    "import emeval.input.spec_details as eisd\n",
    "import emeval.input.phone_view as eipv\n",
    "import emeval.input.eval_view as eiev"
   ]
  },
  {
   "cell_type": "code",
   "execution_count": null,
   "metadata": {},
   "outputs": [],
   "source": [
    "# Visualization helpers\n",
    "import emeval.viz.phone_view as ezpv\n",
    "import emeval.viz.eval_view as ezev"
   ]
  },
  {
   "cell_type": "code",
   "execution_count": null,
   "metadata": {},
   "outputs": [],
   "source": [
    "# For plots\n",
    "import matplotlib.pyplot as plt\n",
    "%matplotlib inline"
   ]
  },
  {
   "cell_type": "code",
   "execution_count": null,
   "metadata": {},
   "outputs": [],
   "source": [
    "# For maps\n",
    "import branca.element as bre"
   ]
  },
  {
   "cell_type": "code",
   "execution_count": null,
   "metadata": {},
   "outputs": [],
   "source": [
    "import pandas as pd\n",
    "import numpy as np\n",
    "import scipy.interpolate as sci"
   ]
  },
  {
   "cell_type": "markdown",
   "metadata": {},
   "source": [
    "## Load and validate data\n",
    "\n",
    "The first issue to note is that we actually have two specs here. The first spec is the checked in `evaluation.spec.sample`, which defines calibration for both stationary and moving instances, and some evaluation trips. However, while starting with the calibration, we noticed some inconsistencies between the power curves. So in order to be more consistent, I defined a second, calibration-only spec `examples/calibration.only.json`, which essentially repeats the calibration experiments multiple times.\n",
    "\n",
    "After that, I returned to the first set of experiments for the moving calibration and the evaluation."
   ]
  },
  {
   "cell_type": "code",
   "execution_count": null,
   "metadata": {},
   "outputs": [],
   "source": [
    "AUTHOR_EMAIL = \"shankari@eecs.berkeley.edu\"\n",
    "# If using ServerSpecDetails, data can alternatively be retrieved as such:\n",
    "# DATASTORE_LOC = \"http://localhost:8080\"\n",
    "# sd = eisd.ServerSpecDetails(DATASTORE_LOC, AUTHOR_EMAIL, \"train_bus_ebike_mtv_ucb\")\n",
    "\n",
    "# You must run `cd bin/ && python dump_data_to_file.py --spec-id sfba_hf_calibration_stationary_only && python dump_data_to_file.py --spec-id sfba_med_freq_calibration_stationary_only`\n",
    "# before using this notebook!\n",
    "\n",
    "DATASTORE_LOC = \"bin/data/\"\n",
    "sd_hf = eisd.FileSpecDetails(DATASTORE_LOC, AUTHOR_EMAIL, \"sfba_hf_calibration_stationary_only\")\n",
    "sd_mf = eisd.FileSpecDetails(DATASTORE_LOC, AUTHOR_EMAIL, \"sfba_med_freq_calibration_stationary_only\")"
   ]
  },
  {
   "cell_type": "code",
   "execution_count": null,
   "metadata": {},
   "outputs": [],
   "source": [
    "pv_hf = eipv.PhoneView(sd_hf)"
   ]
  },
  {
   "cell_type": "code",
   "execution_count": null,
   "metadata": {},
   "outputs": [],
   "source": [
    "pv_mf = eipv.PhoneView(sd_mf)"
   ]
  },
  {
   "cell_type": "code",
   "execution_count": null,
   "metadata": {},
   "outputs": [],
   "source": [
    "import importlib\n",
    "importlib.reload(ezpv)"
   ]
  },
  {
   "cell_type": "markdown",
   "metadata": {},
   "source": [
    "This validation fails because we forgot to multiply the filter_time by 1000 before setting it.\n",
    "So we set the value to 1 ms when we meant to set it to 1 sec.\n",
    "This is not a super bad issue since:\n",
    "- it only affects android\n",
    "- due to built-in throttling the data is actually returned only at 1sec frequency or even less anyway\n",
    "- we don't use this to model anything else, we just use it to help choose regimes for further testing, and for checking that the drain is consistent\n",
    "\n",
    "We had fixed this bug before the medium frequency collection (phew!) so that does validate properly"
   ]
  },
  {
   "cell_type": "code",
   "execution_count": null,
   "metadata": {},
   "outputs": [],
   "source": [
    "# pv_hf.validate()\n",
    "pv_mf.validate()"
   ]
  },
  {
   "cell_type": "code",
   "execution_count": null,
   "metadata": {},
   "outputs": [],
   "source": [
    "ev_hf = eiev.EvaluationView()\n",
    "ev_hf.from_view_multiple_runs(pv_hf, \"\")"
   ]
  },
  {
   "cell_type": "code",
   "execution_count": null,
   "metadata": {},
   "outputs": [],
   "source": [
    "ev_mf = eiev.EvaluationView()\n",
    "ev_mf.from_view_multiple_runs(pv_mf, \"\")"
   ]
  },
  {
   "cell_type": "markdown",
   "metadata": {},
   "source": [
    "##  Convert the battery drain into a dataframe\n",
    "\n",
    "This is similar to the eval dataframe, but subtly different"
   ]
  },
  {
   "cell_type": "code",
   "execution_count": null,
   "metadata": {},
   "outputs": [],
   "source": [
    "a2q_map = {\"100m\": 0, \"lowpwr\": 0, \"10m\": 1, \"balanced\": 1, \"best\": 2, \"high\": 2}\n",
    "f2q_map = {\"medium\": 1, \"high\": 2}"
   ]
  },
  {
   "cell_type": "code",
   "execution_count": null,
   "metadata": {},
   "outputs": [],
   "source": [
    "def get_battery_drain_entries(pv):\n",
    "    battery_entry_list = []\n",
    "    for phone_os, phone_map in pv.map().items():\n",
    "        print(15 * \"=*\")\n",
    "        print(phone_os, phone_map.keys())\n",
    "        for phone_label, phone_detail_map in phone_map.items():\n",
    "            print(4 * ' ', 15 * \"-*\")\n",
    "            print(4 * ' ', phone_label, phone_detail_map.keys())\n",
    "            # this spec does not have any calibration ranges, but evaluation ranges are actually cooler\n",
    "            for r in phone_detail_map[\"calibration_ranges\"]:\n",
    "                print(8 * ' ', 30 * \"=\")\n",
    "                print(8 * ' ',r.keys())\n",
    "                print(8 * ' ',r[\"trip_id\"], r[\"trip_run\"])\n",
    "                bcs = r[\"battery_df\"][\"battery_level_pct\"]\n",
    "                delta_battery = bcs.iloc[0] - bcs.iloc[-1]\n",
    "                if \"medium_freq\" or \"high_frequency\" in r[\"trip_id\"]:\n",
    "                    cc = r[\"trip_id\"].split(\"_\")\n",
    "                    config_map = {\"accuracy_str\": cc[0] if phone_os == \"ios\" else cc[1],\n",
    "                                  \"frequency_str\": cc[3],\n",
    "                    }\n",
    "                    config_map[\"accuracy\"] = a2q_map[config_map[\"accuracy_str\"]]\n",
    "                    config_map[\"frequency\"] = f2q_map[config_map[\"frequency_str\"]]\n",
    "                print(\"Battery starts at %d, ends at %d, drain = %d\" % (bcs.iloc[0], bcs.iloc[-1], delta_battery))\n",
    "                battery_entry = {\"phone_os\": phone_os, \"phone_label\": phone_label, \"config\": r[\"trip_id\"],\n",
    "                                 \"run\": r[\"trip_run\"], \"duration\": r[\"duration\"],\n",
    "                                 \"battery_drain_observed\": delta_battery}\n",
    "                battery_entry.update(config_map)\n",
    "                battery_entry_list.append(battery_entry)\n",
    "    return battery_entry_list"
   ]
  },
  {
   "cell_type": "code",
   "execution_count": null,
   "metadata": {},
   "outputs": [],
   "source": [
    "battery_entries_list = []\n",
    "battery_entries_list.extend(get_battery_drain_entries(pv_hf))\n",
    "battery_entries_list.extend(get_battery_drain_entries(pv_mf))\n",
    "battery_drain_df = pd.DataFrame(battery_entries_list)"
   ]
  },
  {
   "cell_type": "code",
   "execution_count": null,
   "metadata": {},
   "outputs": [],
   "source": [
    "battery_drain_df.head()"
   ]
  },
  {
   "cell_type": "markdown",
   "metadata": {},
   "source": [
    "## Normalize\n",
    "\n",
    "It turns out that the calibration ranges have had very different durations. So if we want to really standardize them, we need to calculate the drain for the same duration. But what should that duration be? (min, max, mean)? For now, we pick the mean duration and because the points are coarse, use curve fitting to ensure that we have a point at that mean duration"
   ]
  },
  {
   "cell_type": "code",
   "execution_count": null,
   "metadata": {},
   "outputs": [],
   "source": [
    "print(\"mean = %s hours, min = %s\" % (battery_drain_df.duration.mean() / (60*60), battery_drain_df.duration.min() / (60*60)))\n",
    "battery_drain_df.duration.describe()"
   ]
  },
  {
   "cell_type": "code",
   "execution_count": null,
   "metadata": {},
   "outputs": [],
   "source": [
    "def explore_interpolated_battery_drain_at_duration(pv, hr_from_start, i = 0):\n",
    "    bad_extrapolations = []\n",
    "    for phone_os, phone_map in pv.map().items():\n",
    "        print(15 * \"=*\")\n",
    "        print(phone_os, phone_map.keys())\n",
    "        for phone_label, phone_detail_map in phone_map.items():\n",
    "            print(4 * ' ', 15 * \"-*\")\n",
    "            print(4 * ' ', phone_label, phone_detail_map.keys())\n",
    "            for r in phone_detail_map[\"calibration_ranges\"]:\n",
    "                print(8 * ' ', 30 * \"=\")\n",
    "                print(8 * ' ',r.keys())\n",
    "                print(8 * ' ',i, r[\"trip_id\"], r[\"trip_run\"])\n",
    "                battery_df = r[\"battery_df\"]\n",
    "                battery_fn = sci.interp1d(battery_df.hr, battery_df.battery_level_pct, fill_value=\"extrapolate\")\n",
    "                hr_range = pd.Series(np.arange(battery_df.hr.min(), hr_from_start, 60 / (60 * 60))) # 1 minute\n",
    "                \n",
    "                interp_battery_level = pd.Series(battery_fn(hr_range))\n",
    "                changes = interp_battery_level.diff()\n",
    "                extrapolated_changes = changes[hr_range > battery_df.hr.max()]\n",
    "                print(len(extrapolated_changes), np.count_nonzero(extrapolated_changes))\n",
    "                print(\"Extrapolating from %s -> %s, added %d more points\" % (battery_df.hr.max(), hr_from_start, len(extrapolated_changes)))\n",
    "                if np.count_nonzero(extrapolated_changes) < 0.1 * len(extrapolated_changes):\n",
    "                    print(\"WARNING: BAD EXTRAPOLATION\")\n",
    "                    bad_extrapolations.append(phone_label+\"_\"+r[\"trip_id\"])\n",
    "                axes_flat[i].plot(battery_df.hr, battery_df.battery_level_pct, color=\"green\")\n",
    "                axes_flat[i].plot(hr_range, interp_battery_level, color=\"red\")\n",
    "                axes_flat[i].set_title(phone_label+\"_\"+r[\"trip_id\"])\n",
    "                i = i+1\n",
    "                \n",
    "    return (i, bad_extrapolations)"
   ]
  },
  {
   "cell_type": "markdown",
   "metadata": {},
   "source": [
    "### Trying to use the mean of the durations, which will require some extrapolation"
   ]
  },
  {
   "cell_type": "code",
   "execution_count": null,
   "metadata": {},
   "outputs": [],
   "source": [
    "row_count = int(len(battery_drain_df) / 3) + 1\n",
    "ifig, axes_array = plt.subplots(nrows=row_count, ncols=3, figsize=(20, 120), sharex=True, sharey=True)\n",
    "axes_flat = axes_array.flatten()\n",
    "all_be = []\n",
    "(i, be) = explore_interpolated_battery_drain_at_duration(pv_hf, 12)\n",
    "all_be.extend(be)\n",
    "(i, be) = explore_interpolated_battery_drain_at_duration(pv_mf, 12, i)\n",
    "all_be.extend(be)\n",
    "all_be"
   ]
  },
  {
   "cell_type": "code",
   "execution_count": null,
   "metadata": {},
   "outputs": [],
   "source": [
    "len(all_be)"
   ]
  },
  {
   "cell_type": "markdown",
   "metadata": {},
   "source": [
    "We can see from the graphs here that some extrapolations just don't work well. I am not sure if this is because there are too few points or something else weird in the spline code. For example, `100m_lowpwr_accuracy_high_frequency_stationary_0` bottoms out at `93%`"
   ]
  },
  {
   "cell_type": "markdown",
   "metadata": {},
   "source": [
    "#### Detailed exploration"
   ]
  },
  {
   "cell_type": "code",
   "execution_count": null,
   "metadata": {},
   "outputs": [],
   "source": [
    "battery_df = [r for r in pv_hf.map()[\"android\"][\"ucb-sdb-android-2\"][\"calibration_ranges\"] if r[\"trip_id\"] == \"100m_lowpwr_accuracy_high_frequency_stationary_0\"][0][\"battery_df\"]"
   ]
  },
  {
   "cell_type": "code",
   "execution_count": null,
   "metadata": {},
   "outputs": [],
   "source": [
    "battery_df.hr.max()"
   ]
  },
  {
   "cell_type": "code",
   "execution_count": null,
   "metadata": {},
   "outputs": [],
   "source": [
    "                battery_fn = sci.interp1d(battery_df.hr, battery_df.battery_level_pct, fill_value=\"extrapolate\")\n",
    "                hr_range = pd.Series(np.arange(battery_df.hr.min(), 12, 60 / (60 * 60))) # 1 minute\n",
    "                interp_battery_level = pd.Series(battery_fn(hr_range))\n",
    "                changes = interp_battery_level.diff(); changes.tail()\n",
    "                extrapolated_changes = changes[hr_range > battery_df.hr.max()]; extrapolated_changes.tail()\n",
    "                print(\"Extrapolating from %s -> %s, added %d more points\" % (battery_df.hr.max(), 12, len(extrapolated_changes)))\n",
    "                print(len(extrapolated_changes), np.count_nonzero(extrapolated_changes))"
   ]
  },
  {
   "cell_type": "markdown",
   "metadata": {},
   "source": [
    "By adding a simple similar check, we can see that a 45/116 curves have bad extrapolations. So we can't really use extrapolation in this case"
   ]
  },
  {
   "cell_type": "markdown",
   "metadata": {},
   "source": [
    "### Switching to the min of the durations, which will give us less data"
   ]
  },
  {
   "cell_type": "code",
   "execution_count": null,
   "metadata": {
    "scrolled": true
   },
   "outputs": [],
   "source": [
    "row_count = int(len(battery_drain_df) / 3) + 1\n",
    "ifig, axes_array = plt.subplots(nrows=row_count, ncols=3, figsize=(20, 120), sharex=True, sharey=True)\n",
    "axes_flat = axes_array.flatten()\n",
    "all_be = []\n",
    "(i, be) = explore_interpolated_battery_drain_at_duration(pv_hf, 5.9993)\n",
    "all_be.extend(be)\n",
    "(i, be) = explore_interpolated_battery_drain_at_duration(pv_mf, 5.9993, i)\n",
    "all_be.extend(be)\n",
    "print(len(all_be))\n",
    "all_be"
   ]
  },
  {
   "cell_type": "code",
   "execution_count": null,
   "metadata": {},
   "outputs": [],
   "source": [
    "battery_df = [r for r in pv_hf.map()[\"android\"][\"ucb-sdb-android-2\"][\"calibration_ranges\"] if r[\"trip_id\"] == \"best_high_accuracy_high_frequency_stationary_0\"][0][\"battery_df\"]\n",
    "battery_fn = sci.interp1d(battery_df.hr, battery_df.battery_level_pct, fill_value=\"extrapolate\")\n",
    "hr_range = pd.Series(np.arange(battery_df.hr.min(), 12, 60 / (60 * 60))) # 1 minute\n",
    "interp_battery_level = pd.Series(battery_fn(hr_range))\n",
    "changes = interp_battery_level.diff(); changes.tail()\n",
    "extrapolated_changes = changes[hr_range > battery_df.hr.max()]; extrapolated_changes.tail()\n",
    "print(\"Extrapolating from %s -> %s, added %d more points\" % (battery_df.hr.max(), 12, len(extrapolated_changes)))\n",
    "print(len(extrapolated_changes), np.count_nonzero(extrapolated_changes))"
   ]
  },
  {
   "cell_type": "code",
   "execution_count": null,
   "metadata": {},
   "outputs": [],
   "source": [
    "ifig, ax = plt.subplots(nrows=1, ncols=1, figsize=(16,8))\n",
    "ax.plot(battery_df.hr, battery_df.battery_level_pct, color=\"green\")\n",
    "ax.plot(hr_range, interp_battery_level, color=\"red\")"
   ]
  },
  {
   "cell_type": "markdown",
   "metadata": {},
   "source": [
    "## Now to actually interpolate based on the min"
   ]
  },
  {
   "cell_type": "code",
   "execution_count": null,
   "metadata": {},
   "outputs": [],
   "source": [
    "def get_interpolated_battery_drain_at_duration(pv, hr_from_start):\n",
    "    interpolated_battery_levels = []\n",
    "    for phone_os, phone_map in pv.map().items():\n",
    "        print(15 * \"=*\")\n",
    "        print(phone_os, phone_map.keys())\n",
    "        for phone_label, phone_detail_map in phone_map.items():\n",
    "            print(4 * ' ', 15 * \"-*\")\n",
    "            print(4 * ' ', phone_label, phone_detail_map.keys())\n",
    "            for r in phone_detail_map[\"calibration_ranges\"]:\n",
    "                print(8 * ' ', 30 * \"=\")\n",
    "                print(8 * ' ',r.keys())\n",
    "                print(8 * ' ',r[\"trip_id\"], r[\"trip_run\"])\n",
    "                battery_df = r[\"battery_df\"]\n",
    "                battery_fn = sci.interp1d(battery_df.hr, battery_df.battery_level_pct, fill_value=\"extrapolate\")\n",
    "                level_at_hr_from_start = battery_fn(hr_from_start)\n",
    "                print(\"observed delta = %s at %s, predicted delta = %s at %s\" % \n",
    "                      (battery_df.battery_level_pct.iloc[-1], battery_df.hr.max(),\n",
    "                       level_at_hr_from_start, hr_from_start))\n",
    "                interpolated_battery_levels.append((battery_df.battery_level_pct.iloc[0] - level_at_hr_from_start))\n",
    "    return interpolated_battery_levels"
   ]
  },
  {
   "cell_type": "code",
   "execution_count": null,
   "metadata": {},
   "outputs": [],
   "source": [
    "all_interpolated_battery_levels = []\n",
    "all_interpolated_battery_levels.extend(get_interpolated_battery_drain_at_duration(pv_hf, battery_drain_df.duration.min()/(60 * 60)))\n",
    "all_interpolated_battery_levels.extend(get_interpolated_battery_drain_at_duration(pv_mf, battery_drain_df.duration.min()/(60 * 60)))\n",
    "battery_drain_df[\"battery_drain\"] = all_interpolated_battery_levels"
   ]
  },
  {
   "cell_type": "code",
   "execution_count": null,
   "metadata": {},
   "outputs": [],
   "source": [
    "battery_drain_df[\"phone_idx\"] = battery_drain_df.phone_label.apply(lambda l: l.split(\"-\")[-1])"
   ]
  },
  {
   "cell_type": "code",
   "execution_count": null,
   "metadata": {},
   "outputs": [],
   "source": [
    "battery_drain_df.head()"
   ]
  },
  {
   "cell_type": "code",
   "execution_count": null,
   "metadata": {},
   "outputs": [],
   "source": [
    "battery_drain_df.replace(\"balanced\", \"balpwr\", inplace=True)\n",
    "battery_drain_df.replace(\"medium\", \"med\", inplace=True)"
   ]
  },
  {
   "cell_type": "code",
   "execution_count": null,
   "metadata": {},
   "outputs": [],
   "source": [
    "ifig, ax_array = plt.subplots(nrows=1,ncols=2,figsize=(12,6), sharex=False, sharey=True)\n",
    "battery_drain_df.query(\"phone_os == 'android'\").boxplot(ax=ax_array[0], column=[\"battery_drain\"], by=[\"accuracy_str\", \"frequency_str\"])\n",
    "battery_drain_df.query(\"phone_os == 'ios'\").boxplot(ax=ax_array[1], column=[\"battery_drain\"], by=[\"accuracy_str\", \"frequency_str\"])\n",
    "for ax in ax_array:\n",
    "    ax.set_xlabel(\"[accuracy, frequency]\")\n",
    "\n",
    "ax_array[0].set_title(\"android\")\n",
    "ax_array[1].set_title(\"ios\")\n",
    "ax_array[0].set_ylabel(\"Battery drain (%)\")\n",
    "ifig.suptitle(\"Boxplot of battery drain for various combinations of accuracy and frequency\")\n",
    "\n",
    "# ifig.tight_layout()"
   ]
  },
  {
   "cell_type": "code",
   "execution_count": null,
   "metadata": {},
   "outputs": [],
   "source": [
    "ifig, ax_array = plt.subplots(nrows=2,ncols=1,figsize=(16,8), sharex=False, sharey=True, )\n",
    "battery_drain_df.query(\"phone_os == 'android'\").boxplot(ax=ax_array[0], column=[\"battery_drain\"], by=[\"accuracy\", \"frequency\", \"phone_idx\"])\n",
    "battery_drain_df.query(\"phone_os == 'ios'\").boxplot(ax=ax_array[1], column=[\"battery_drain\"], by=[\"accuracy\", \"frequency\", \"phone_idx\"])\n",
    "\n",
    "for ax in ax_array:\n",
    "    ax.set_title(\"\")\n",
    "    ax.set_ylabel(\"Battery drain\")\n",
    "\n",
    "ax_array[0].set_title(\"accuracy = {0: lowpwr, 1: balanced, 2: high}, frequency = {1: medium, 2: high}\")\n",
    "ax_array[1].set_title(\"accuracy = {0: 100m, 1: 10m, 2: high}, frequency = {1: medium, 2: high}\")\n",
    "ifig.tight_layout(pad=3)"
   ]
  },
  {
   "cell_type": "code",
   "execution_count": null,
   "metadata": {},
   "outputs": [],
   "source": [
    "battery_drain_df.query(\"phone_os == 'ios' & accuracy == 1 & frequency == 2 & phone_label == 'ucb-sdb-ios-4'\").battery_drain.describe()"
   ]
  },
  {
   "cell_type": "code",
   "execution_count": null,
   "metadata": {},
   "outputs": [],
   "source": [
    "ifig, ax_array = plt.subplots(nrows=2,ncols=1,figsize=(16,8), sharex=False, sharey=True)\n",
    "battery_drain_df.query(\"phone_os == 'android'\").boxplot(ax=ax_array[0], column=[\"battery_drain\"], by=[\"accuracy\", \"frequency\", \"phone_idx\"])\n",
    "battery_drain_df.query(\"phone_os == 'ios'\").boxplot(ax=ax_array[1], column=[\"battery_drain\"], by=[\"accuracy\", \"frequency\", \"phone_idx\"])\n",
    "\n",
    "for ax in ax_array:\n",
    "    ax.set_title(\"\")\n",
    "    ax.set_ylabel(\"Battery drain\")\n",
    "\n",
    "ax_array[0].set_title(\"accuracy = {0: lowpwr, 1: balanced, 2: high}, frequency = {1: medium, 2: high}\")\n",
    "ax_array[1].set_title(\"accuracy = {0: 100m, 1: 10m, 2: high}, frequency = {1: medium, 2: high}\")"
   ]
  },
  {
   "cell_type": "code",
   "execution_count": null,
   "metadata": {},
   "outputs": [],
   "source": [
    "ifig, ax_array = plt.subplots(nrows=2,ncols=2,figsize=(16,8), sharex=False, sharey=True)\n",
    "battery_drain_df.query(\"phone_os == 'android' & accuracy==2 & frequency==2\").boxplot(ax=ax_array[0][0], column=[\"battery_drain\"], by=[\"run\"])\n",
    "battery_drain_df.query(\"phone_os == 'ios' & accuracy==2 & frequency==2\").boxplot(ax=ax_array[1][0], column=[\"battery_drain\"], by=[\"run\"])\n",
    "battery_drain_df.query(\"phone_os == 'android' & accuracy==2 & frequency==2\").boxplot(ax=ax_array[0][1], column=[\"battery_drain\"], by=[\"phone_idx\"])\n",
    "battery_drain_df.query(\"phone_os == 'ios' & accuracy==2 & frequency==2\").boxplot(ax=ax_array[1][1], column=[\"battery_drain\"], by=[\"phone_idx\"])\n",
    "\n",
    "# for ax in ax_array:\n",
    "#     ax.set_title(\"\")\n",
    "#     ax.set_ylabel(\"Battery drain\")\n",
    "\n",
    "ifig.tight_layout(pad=2)"
   ]
  },
  {
   "cell_type": "code",
   "execution_count": null,
   "metadata": {},
   "outputs": [],
   "source": []
  },
  {
   "cell_type": "code",
   "execution_count": null,
   "metadata": {},
   "outputs": [],
   "source": []
  },
  {
   "cell_type": "code",
   "execution_count": null,
   "metadata": {},
   "outputs": [],
   "source": []
  },
  {
   "cell_type": "code",
   "execution_count": null,
   "metadata": {},
   "outputs": [],
   "source": []
  }
 ],
 "metadata": {
  "kernelspec": {
   "display_name": "Python 3",
   "language": "python",
   "name": "python3"
  },
  "language_info": {
   "codemirror_mode": {
    "name": "ipython",
    "version": 3
   },
   "file_extension": ".py",
   "mimetype": "text/x-python",
   "name": "python",
   "nbconvert_exporter": "python",
   "pygments_lexer": "ipython3",
   "version": "3.6.7"
  }
 },
 "nbformat": 4,
 "nbformat_minor": 2
}
